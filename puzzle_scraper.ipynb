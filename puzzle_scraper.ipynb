{
 "cells": [
  {
   "cell_type": "code",
   "execution_count": 1,
   "id": "c031226b-e4e2-4408-8fed-3e559e759f7a",
   "metadata": {
    "tags": []
   },
   "outputs": [],
   "source": [
    "import pandas as pd\n",
    "from bs4 import BeautifulSoup\n",
    "import requests\n",
    "import json\n",
    "from selenium import webdriver\n",
    "from selenium.webdriver.common.by import By\n",
    "from selenium.webdriver.firefox.options import Options\n",
    "import re"
   ]
  },
  {
   "cell_type": "code",
   "execution_count": 5,
   "id": "897d043a-4c81-4b8b-8196-3b61085ddee8",
   "metadata": {
    "tags": []
   },
   "outputs": [],
   "source": [
    "url = 'https://puzzles-prod.telegraph.co.uk/plusword/data.json'\n",
    "r_json = requests.get(url).json()\n",
    "\n",
    "row = {'date' : r_json['copy']['date-publish-analytics'][:10],\n",
    "      'puzzle_number' : r_json['meta']['number'],\n",
    "      'id' :r_json['meta']['id'],\n",
    "      'plusword_solution' : r_json['settings']['solution']}\n",
    "\n",
    "for direction in ['across', 'down']:\n",
    "    clue_num = 0\n",
    "    for clue in r_json['cluedata'][direction]:\n",
    "        clue_num +=1\n",
    "        row.update({'clue_' + direction + '_' + str(clue_num) :clue})\n",
    "\n",
    "for answer_num in range(1,6):\n",
    "    row.update({'answer_' + str(answer_num) :r_json['celldata'][5*(answer_num-1):(5*answer_num)]})"
   ]
  },
  {
   "cell_type": "code",
   "execution_count": 6,
   "id": "b996c277-9382-469d-8846-da44eb2c1111",
   "metadata": {
    "tags": []
   },
   "outputs": [],
   "source": [
    "url = 'https://puzzles-prod.telegraph.co.uk/plusword/index.html'\n",
    "options = Options()\n",
    "options.add_argument(\"--headless\")\n",
    "driver = webdriver.Firefox(options=options)\n",
    "driver.get(url)\n",
    "element = driver.find_element(By.XPATH, '/html/body/div[2]/div[5]/header/button').click()\n",
    "\n",
    "yellow = []\n",
    "green = []\n",
    "match = 'C\\d*'\n",
    "for table_row in driver.find_elements(By.CLASS_NAME, \"row\"):\n",
    "    for cell in table_row.find_elements(By.TAG_NAME, 'td'):\n",
    "        cell_class = cell.get_attribute(\"class\")\n",
    "                \n",
    "        if 'right-letter-wrong-column' in cell_class:\n",
    "            yellow.append((re.search(match, cell_class).group(0).strip('C')))\n",
    "            \n",
    "        if 'right-letter-right-column' in cell_class:\n",
    "            green.append((re.search(match, cell_class).group(0).strip('C')))\n",
    "            \n",
    "row.update({'yellow' : yellow,\n",
    "            'green' : green})"
   ]
  },
  {
   "cell_type": "code",
   "execution_count": 7,
   "id": "f826cdef-de85-464e-b693-18e0bc5ae76d",
   "metadata": {},
   "outputs": [
    {
     "data": {
      "text/html": [
       "<div>\n",
       "<style scoped>\n",
       "    .dataframe tbody tr th:only-of-type {\n",
       "        vertical-align: middle;\n",
       "    }\n",
       "\n",
       "    .dataframe tbody tr th {\n",
       "        vertical-align: top;\n",
       "    }\n",
       "\n",
       "    .dataframe thead th {\n",
       "        text-align: right;\n",
       "    }\n",
       "</style>\n",
       "<table border=\"1\" class=\"dataframe\">\n",
       "  <thead>\n",
       "    <tr style=\"text-align: right;\">\n",
       "      <th></th>\n",
       "      <th>date</th>\n",
       "      <th>puzzle_number</th>\n",
       "      <th>id</th>\n",
       "      <th>plusword_solution</th>\n",
       "      <th>clue_across_1</th>\n",
       "      <th>clue_across_2</th>\n",
       "      <th>clue_across_3</th>\n",
       "      <th>clue_across_4</th>\n",
       "      <th>clue_across_5</th>\n",
       "      <th>clue_down_1</th>\n",
       "      <th>...</th>\n",
       "      <th>clue_down_3</th>\n",
       "      <th>clue_down_4</th>\n",
       "      <th>clue_down_5</th>\n",
       "      <th>answer_1</th>\n",
       "      <th>answer_2</th>\n",
       "      <th>answer_3</th>\n",
       "      <th>answer_4</th>\n",
       "      <th>answer_5</th>\n",
       "      <th>yellow</th>\n",
       "      <th>green</th>\n",
       "    </tr>\n",
       "  </thead>\n",
       "  <tbody>\n",
       "    <tr>\n",
       "      <th>0</th>\n",
       "      <td>2023-04-22</td>\n",
       "      <td>335</td>\n",
       "      <td>25564</td>\n",
       "      <td>PAINT</td>\n",
       "      <td>Sends junk email to</td>\n",
       "      <td>Jewish scripture</td>\n",
       "      <td>Cream of the crop</td>\n",
       "      <td>Let up</td>\n",
       "      <td>Garb</td>\n",
       "      <td>Mount such as a horse</td>\n",
       "      <td>...</td>\n",
       "      <td>Crop up</td>\n",
       "      <td>Makes the winning move at chess</td>\n",
       "      <td>Outbuildings</td>\n",
       "      <td>SPAMS</td>\n",
       "      <td>TORAH</td>\n",
       "      <td>ELITE</td>\n",
       "      <td>EASED</td>\n",
       "      <td>DRESS</td>\n",
       "      <td>[1, 2, 5, 8, 13]</td>\n",
       "      <td>[12, 16]</td>\n",
       "    </tr>\n",
       "  </tbody>\n",
       "</table>\n",
       "<p>1 rows × 21 columns</p>\n",
       "</div>"
      ],
      "text/plain": [
       "        date puzzle_number     id plusword_solution        clue_across_1  \\\n",
       "0 2023-04-22           335  25564             PAINT  Sends junk email to   \n",
       "\n",
       "      clue_across_2      clue_across_3 clue_across_4 clue_across_5  \\\n",
       "0  Jewish scripture  Cream of the crop        Let up          Garb   \n",
       "\n",
       "             clue_down_1  ... clue_down_3                      clue_down_4  \\\n",
       "0  Mount such as a horse  ...     Crop up  Makes the winning move at chess   \n",
       "\n",
       "    clue_down_5 answer_1 answer_2 answer_3 answer_4 answer_5  \\\n",
       "0  Outbuildings    SPAMS    TORAH    ELITE    EASED    DRESS   \n",
       "\n",
       "             yellow     green  \n",
       "0  [1, 2, 5, 8, 13]  [12, 16]  \n",
       "\n",
       "[1 rows x 21 columns]"
      ]
     },
     "execution_count": 7,
     "metadata": {},
     "output_type": "execute_result"
    }
   ],
   "source": [
    "df = pd.DataFrame.from_records([row])\n",
    "\n",
    "\n",
    "df['date'] = pd.to_datetime(df['date'], format='%Y-%m-%d')\n",
    "\n",
    "df"
   ]
  },
  {
   "cell_type": "code",
   "execution_count": 8,
   "id": "49040609-3c82-4881-9909-a401dbea0a30",
   "metadata": {
    "tags": []
   },
   "outputs": [
    {
     "data": {
      "text/plain": [
       "date                 datetime64[ns]\n",
       "puzzle_number                object\n",
       "id                           object\n",
       "plusword_solution            object\n",
       "clue_across_1                object\n",
       "clue_across_2                object\n",
       "clue_across_3                object\n",
       "clue_across_4                object\n",
       "clue_across_5                object\n",
       "clue_down_1                  object\n",
       "clue_down_2                  object\n",
       "clue_down_3                  object\n",
       "clue_down_4                  object\n",
       "clue_down_5                  object\n",
       "answer_1                     object\n",
       "answer_2                     object\n",
       "answer_3                     object\n",
       "answer_4                     object\n",
       "answer_5                     object\n",
       "yellow                       object\n",
       "green                        object\n",
       "dtype: object"
      ]
     },
     "execution_count": 8,
     "metadata": {},
     "output_type": "execute_result"
    }
   ],
   "source": [
    "df.dtypes"
   ]
  }
 ],
 "metadata": {
  "kernelspec": {
   "display_name": "Python 3 (ipykernel)",
   "language": "python",
   "name": "python3"
  },
  "language_info": {
   "codemirror_mode": {
    "name": "ipython",
    "version": 3
   },
   "file_extension": ".py",
   "mimetype": "text/x-python",
   "name": "python",
   "nbconvert_exporter": "python",
   "pygments_lexer": "ipython3",
   "version": "3.10.6"
  }
 },
 "nbformat": 4,
 "nbformat_minor": 5
}
