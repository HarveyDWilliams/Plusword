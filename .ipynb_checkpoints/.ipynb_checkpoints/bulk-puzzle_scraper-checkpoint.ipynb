{
 "cells": [
  {
   "cell_type": "code",
   "execution_count": 1,
   "id": "cdc6c3ff-af57-4b11-b12b-e272decad9a6",
   "metadata": {
    "tags": []
   },
   "outputs": [],
   "source": [
    "import pandas as pd\n",
    "from bs4 import BeautifulSoup\n",
    "import requests\n",
    "import json\n",
    "from selenium import webdriver\n",
    "from selenium.webdriver.common.by import By\n",
    "from selenium.webdriver.firefox.options import Options\n",
    "import re\n",
    "from time import sleep\n",
    "from selenium.webdriver.common.keys import Keys"
   ]
  },
  {
   "cell_type": "code",
   "execution_count": 2,
   "id": "3ee73a7f-f480-4def-acea-29584da3c8dc",
   "metadata": {},
   "outputs": [],
   "source": [
    "url ='https://www.telegraph.co.uk/puzzles/puzzles/?source=archive#plusword/plusword/plusword-19952'\n",
    "driver = webdriver.Firefox()\n",
    "driver.get(url)\n",
    "sleep(2)\n",
    "email = 'tomwhittingtont@gmail.com'\n",
    "password = '7P7gp8pMu86ycUV'\n",
    "driver.switch_to.frame('sp_message_iframe_784380')\n",
    "driver.find_element(By.XPATH, '/html/body/div/div[2]/div[3]/div/div[2]/div[2]/button[1]').click()\n",
    "sleep(2)\n",
    "driver.refresh()\n",
    "driver.find_element(By.XPATH, '/html/body/div[1]/div[2]/div/div[1]/p[2]/a').click()\n",
    "sleep(2)\n",
    "driver.find_element(By.ID, \"email\").send_keys(email)\n",
    "#username_input.\n",
    "driver.find_element(By.ID, 'login-button').click()\n",
    "sleep(2)\n",
    "driver.find_element(By.ID, \"password\").send_keys(password)\n",
    "driver.find_element(By.ID, 'login-button').click()\n",
    "sleep(2)"
   ]
  },
  {
   "cell_type": "code",
   "execution_count": 3,
   "id": "39a147d2-dcc3-4daa-a75c-455235f19cfe",
   "metadata": {
    "tags": []
   },
   "outputs": [],
   "source": [
    "\n",
    "driver.get('https://www.telegraph.co.uk/puzzles/puzzles/?source=home#plusword/plusword/plusword-25564')\n",
    "sleep(2)\n",
    "driver.switch_to.frame('gameplayiframe')\n",
    "sleep(2)\n",
    "driver.find_element(By.XPATH, '/html/body/div[2]/div[9]/header/button').click()\n",
    "driver.find_element(By.XPATH, '/html/body/div[2]/div[1]/header/ul[2]/li[1]/button').click()\n",
    "driver.find_element(By.XPATH, '/html/body/div[2]/div[1]/header/ul[2]/li[1]/div[2]/ul/li[3]/button').click()\n",
    "driver.find_element(By.XPATH, '/html/body/div[2]/div[1]/header/ul[2]/li[1]/div[1]/ul/li[1]/button').click()"
   ]
  },
  {
   "cell_type": "code",
   "execution_count": null,
   "id": "8b6e733d-aba2-4451-8399-2c3dc081903f",
   "metadata": {},
   "outputs": [],
   "source": []
  },
  {
   "cell_type": "code",
   "execution_count": 5,
   "id": "5709bb1f-dcd6-4a56-9ce1-22d584b29f31",
   "metadata": {
    "tags": []
   },
   "outputs": [],
   "source": [
    "row={}\n",
    "yellow = []\n",
    "green = []\n",
    "match = 'C\\d*'\n",
    "answer=''\n",
    "for table_row in driver.find_elements(By.CLASS_NAME, \"row\"):\n",
    "    for cell in table_row.find_elements(By.TAG_NAME, 'td'):\n",
    "        letter = cell.find_element(By.CLASS_NAME, 'letter')\n",
    "        answer = answer + letter.text\n",
    "        \n",
    "        cell_class = cell.get_attribute(\"class\")\n",
    "                \n",
    "        if 'right-letter-wrong-column' in cell_class:\n",
    "            yellow.append((int(re.search(match, cell_class).group(0).strip('C'))) +1)\n",
    "            \n",
    "        if 'right-letter-right-column' in cell_class:\n",
    "            green.append((int(re.search(match, cell_class).group(0).strip('C'))) +1 )\n",
    "\n",
    "row.update({'plusword_solution' : answer[-5:]})\n",
    "\n",
    "for answer_num in range(1,6):\n",
    "    row.update({'answer_' + str(answer_num) : answer[5*(answer_num-1):(5*answer_num)]})\n",
    "row.update({'yellow' : yellow, 'green' : green})"
   ]
  },
  {
   "cell_type": "markdown",
   "id": "9f5810f8-c651-4991-9cc3-db402795656b",
   "metadata": {
    "tags": []
   },
   "source": [
    "answer=''\n",
    "for table_row in driver.find_elements(By.CLASS_NAME, \"row\"):\n",
    "    for cell in table_row.find_elements(By.TAG_NAME, 'td'):\n"
   ]
  },
  {
   "cell_type": "code",
   "execution_count": null,
   "id": "3a24fca9-5eaa-411d-8429-1b9eb2be49fe",
   "metadata": {
    "tags": []
   },
   "outputs": [],
   "source": []
  },
  {
   "cell_type": "code",
   "execution_count": null,
   "id": "59beacdd-0812-42ad-bdb7-217f364a5c25",
   "metadata": {
    "tags": []
   },
   "outputs": [],
   "source": [
    "\n",
    "                             "
   ]
  },
  {
   "cell_type": "code",
   "execution_count": 6,
   "id": "28fbce65-35b1-4f65-861a-68054dc32bc2",
   "metadata": {
    "tags": []
   },
   "outputs": [
    {
     "data": {
      "text/plain": [
       "{'plusword_solution': 'PAINT',\n",
       " 'answer_1': 'SPAMS',\n",
       " 'answer_2': 'TORAH',\n",
       " 'answer_3': 'ELITE',\n",
       " 'answer_4': 'EASED',\n",
       " 'answer_5': 'DRESS',\n",
       " 'yellow': [2, 3, 6, 9, 14],\n",
       " 'green': [13, 17]}"
      ]
     },
     "execution_count": 6,
     "metadata": {},
     "output_type": "execute_result"
    }
   ],
   "source": [
    "row"
   ]
  },
  {
   "cell_type": "code",
   "execution_count": null,
   "id": "5b20518c-08d3-4572-8f34-40949237b9e3",
   "metadata": {},
   "outputs": [],
   "source": []
  }
 ],
 "metadata": {
  "kernelspec": {
   "display_name": "Python 3 (ipykernel)",
   "language": "python",
   "name": "python3"
  },
  "language_info": {
   "codemirror_mode": {
    "name": "ipython",
    "version": 3
   },
   "file_extension": ".py",
   "mimetype": "text/x-python",
   "name": "python",
   "nbconvert_exporter": "python",
   "pygments_lexer": "ipython3",
   "version": "3.10.6"
  }
 },
 "nbformat": 4,
 "nbformat_minor": 5
}
