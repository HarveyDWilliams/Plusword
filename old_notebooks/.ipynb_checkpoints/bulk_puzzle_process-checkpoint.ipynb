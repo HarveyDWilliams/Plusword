{
 "cells": [
  {
   "cell_type": "code",
   "execution_count": 1,
   "id": "4d853092-2db2-4a0e-a483-2d17cb54bf50",
   "metadata": {},
   "outputs": [],
   "source": [
    "import cv2\n",
    "import pytesseract\n",
    "from PIL import Image\n",
    "import re\n",
    "from datetime import datetime, timedelta\n",
    "import numpy as np\n",
    "import pandas as pd"
   ]
  },
  {
   "cell_type": "code",
   "execution_count": null,
   "id": "71c4151d-e1b1-4168-9935-7eb073bb0ade",
   "metadata": {},
   "outputs": [],
   "source": [
    "mydir = r'Coding/Plusword/old_puzzles/'\n",
    "\n",
    "# loop to generate a list of filenames and a list of text from images\n",
    "\n",
    "filename_list = []\n",
    "text_list = []\n",
    "\n",
    "for files in os.listdir(mydir):\n",
    "    img = cv2.imread(r'C:\\Users\\tomwh\\PycharmProjects\\Plusword\\whatsapp\\Images\\\\' + files)\n",
    "    text = pytesseract.image_to_string(img)\n",
    "    filename_list.append(os.fsdecode(files))\n",
    "    text_list.append(text)"
   ]
  },
  {
   "cell_type": "code",
   "execution_count": 2,
   "id": "4c23c719-7c5b-444d-8484-901ea655aa27",
   "metadata": {},
   "outputs": [],
   "source": [
    "row_list = []\n",
    "\n"
   ]
  },
  {
   "cell_type": "code",
   "execution_count": 3,
   "id": "877698cb-3c2f-4170-8f29-407b7a30701a",
   "metadata": {
    "tags": []
   },
   "outputs": [],
   "source": [
    "img = cv2.imread(\"1.png\")\n",
    "puzzle_number_crop = img[180:220, 850:1082]\n",
    "text= pytesseract.image_to_string(puzzle_number_crop)\n",
    "regex = re.compile('[^0-9]')\n",
    "puzzle_number = regex.sub('', text)\n",
    "puzzle_number = int(puzzle_number)"
   ]
  },
  {
   "cell_type": "code",
   "execution_count": 4,
   "id": "f832c39a-b305-4cb7-92f7-a51b45369489",
   "metadata": {},
   "outputs": [],
   "source": [
    "first_plusword_date = '2022-05-23'\n",
    "first_plusword_date = datetime.fromisoformat(first_plusword_date)\n",
    "plusword_date = first_plusword_date +  timedelta(days=puzzle_number - 1)\n",
    "plusword_date=plusword_date.strftime(\"%Y-%m-%d\")\n",
    "row_list.append(plusword_date)\n",
    "row_list.append(puzzle_number)"
   ]
  },
  {
   "cell_type": "code",
   "execution_count": 5,
   "id": "fdea65b3-2da9-4b79-b031-e53b5fd79cb9",
   "metadata": {},
   "outputs": [],
   "source": [
    "plusword_crop = img[746:810, 690:1150]\n",
    "text= pytesseract.image_to_string(plusword_crop)\n",
    "regex = re.compile('[^A-Z]')\n",
    "plusword_solution = regex.sub('', text)\n",
    "row_list.append(plusword_solution)"
   ]
  },
  {
   "cell_type": "code",
   "execution_count": 6,
   "id": "d20b5782-b82c-4bab-bd5a-19c155162135",
   "metadata": {
    "tags": []
   },
   "outputs": [],
   "source": [
    "grid_crop = img[230:705, 690:1150]\n",
    "\n"
   ]
  },
  {
   "cell_type": "code",
   "execution_count": 7,
   "id": "d89efdeb-ed6c-4963-8c45-a1a71a346b7a",
   "metadata": {
    "tags": []
   },
   "outputs": [],
   "source": [
    "answer_list= []\n",
    "\n",
    "row_coordinates = [grid_crop[40:90, 10:500],\n",
    "                   grid_crop[120:190, 10:500],\n",
    "                   grid_crop[210:290, 10:500],\n",
    "                   grid_crop[300:380, 10:500],\n",
    "                   grid_crop[390:480, 10:500]]\n",
    "\n",
    "for row_coordinate in row_coordinates:\n",
    "    row_crop = row_coordinate\n",
    "    text= pytesseract.image_to_string(row_crop)\n",
    "\n",
    "    regex = re.compile('[^A-Z]')\n",
    "    text = regex.sub('', text)\n",
    "    answer_list.append(text)\n",
    "    \n",
    "row_list.append(answer_list)"
   ]
  },
  {
   "cell_type": "code",
   "execution_count": 8,
   "id": "d3b87443-8a6c-41da-8788-a2ad301d673d",
   "metadata": {
    "tags": []
   },
   "outputs": [],
   "source": [
    "question_crop = img[250:680, 1150:1800]\n",
    "text= pytesseract.image_to_string(question_crop)\n",
    "text = text.splitlines()\n",
    "regex = re.compile('[^a-z A-Z]')\n",
    "text = [regex.sub('', x) for x in text]\n",
    "questions = [x for x in text if x]\n",
    "\n",
    "row_list.append(questions)"
   ]
  },
  {
   "cell_type": "code",
   "execution_count": 9,
   "id": "0b7e16a4-71cb-4af1-8e3f-77df186f495b",
   "metadata": {},
   "outputs": [],
   "source": [
    "colour_check_coordinates=[(100 ,87),\n",
    "                          (100, 179),\n",
    "                          (100 ,270),\n",
    "                          (100 ,365),\n",
    "                          (100 ,456),\n",
    "                          (195 ,87),\n",
    "                          (195 ,179),\n",
    "                          (195 ,270),\n",
    "                          (195 ,365),\n",
    "                          (195 ,456),\n",
    "                          (285 ,87),\n",
    "                         (285 ,179),\n",
    "                         (285 ,270),\n",
    "                         (285 ,365),\n",
    "                         (285 ,456),\n",
    "                         (380 ,87),\n",
    "                         (380 ,179),\n",
    "                         (380 ,270),\n",
    "                         (380 ,365),\n",
    "                         (380 ,456),\n",
    "                         (459 ,87),\n",
    "                         (459 ,179),\n",
    "                         (459 ,270),\n",
    "                         (459 ,365),\n",
    "                         (459 ,456)]\n",
    " \n",
    "white_rgb = np.array([255, 255, 255])\n",
    "yellow_rgb =np.array([223, 253, 255])\n",
    "green_rgb = np.array([218, 241, 214])\n",
    "\n",
    "green = []\n",
    "yellow= []\n",
    "i = 0\n",
    "for cell in colour_check_coordinates:\n",
    "    i += 1\n",
    "    colour_arr = grid_crop[cell]\n",
    "\n",
    "    if not (colour_arr==white_rgb).all():\n",
    "        if (colour_arr==yellow_rgb).all():\n",
    "            yellow.append(i)\n",
    "        if (colour_arr==green_rgb).all():\n",
    "            green.append(i)\n",
    "            \n",
    "row_list.append(str(yellow))\n",
    "row_list.append(str(green))"
   ]
  },
  {
   "cell_type": "code",
   "execution_count": 10,
   "id": "75d5029c-d9dc-4cc2-9e8a-5028224fc325",
   "metadata": {
    "tags": []
   },
   "outputs": [],
   "source": [
    "df = pd.DataFrame(row_list)"
   ]
  },
  {
   "cell_type": "code",
   "execution_count": 11,
   "id": "895a45ee-1cb8-4a55-9b94-c698c6a256f6",
   "metadata": {
    "tags": []
   },
   "outputs": [
    {
     "data": {
      "text/html": [
       "<div>\n",
       "<style scoped>\n",
       "    .dataframe tbody tr th:only-of-type {\n",
       "        vertical-align: middle;\n",
       "    }\n",
       "\n",
       "    .dataframe tbody tr th {\n",
       "        vertical-align: top;\n",
       "    }\n",
       "\n",
       "    .dataframe thead th {\n",
       "        text-align: right;\n",
       "    }\n",
       "</style>\n",
       "<table border=\"1\" class=\"dataframe\">\n",
       "  <thead>\n",
       "    <tr style=\"text-align: right;\">\n",
       "      <th></th>\n",
       "      <th>0</th>\n",
       "    </tr>\n",
       "  </thead>\n",
       "  <tbody>\n",
       "    <tr>\n",
       "      <th>0</th>\n",
       "      <td>2022-05-23</td>\n",
       "    </tr>\n",
       "    <tr>\n",
       "      <th>1</th>\n",
       "      <td>1</td>\n",
       "    </tr>\n",
       "    <tr>\n",
       "      <th>2</th>\n",
       "      <td>LURID</td>\n",
       "    </tr>\n",
       "    <tr>\n",
       "      <th>3</th>\n",
       "      <td>[CAMEL, OVIATIE, MOCHA, MIRES, ADORE]</td>\n",
       "    </tr>\n",
       "    <tr>\n",
       "      <th>4</th>\n",
       "      <td>[Across, The ship of the desert,  Broadest bel...</td>\n",
       "    </tr>\n",
       "    <tr>\n",
       "      <th>5</th>\n",
       "      <td>[5, 17, 22, 24]</td>\n",
       "    </tr>\n",
       "    <tr>\n",
       "      <th>6</th>\n",
       "      <td>[18]</td>\n",
       "    </tr>\n",
       "  </tbody>\n",
       "</table>\n",
       "</div>"
      ],
      "text/plain": [
       "                                                   0\n",
       "0                                         2022-05-23\n",
       "1                                                  1\n",
       "2                                              LURID\n",
       "3              [CAMEL, OVIATIE, MOCHA, MIRES, ADORE]\n",
       "4  [Across, The ship of the desert,  Broadest bel...\n",
       "5                                    [5, 17, 22, 24]\n",
       "6                                               [18]"
      ]
     },
     "execution_count": 11,
     "metadata": {},
     "output_type": "execute_result"
    }
   ],
   "source": [
    "df"
   ]
  },
  {
   "cell_type": "code",
   "execution_count": null,
   "id": "d350dab1-4b3e-4ced-9ada-10dc1c684f75",
   "metadata": {},
   "outputs": [],
   "source": []
  }
 ],
 "metadata": {
  "kernelspec": {
   "display_name": "Python 3 (ipykernel)",
   "language": "python",
   "name": "python3"
  },
  "language_info": {
   "codemirror_mode": {
    "name": "ipython",
    "version": 3
   },
   "file_extension": ".py",
   "mimetype": "text/x-python",
   "name": "python",
   "nbconvert_exporter": "python",
   "pygments_lexer": "ipython3",
   "version": "3.10.6"
  }
 },
 "nbformat": 4,
 "nbformat_minor": 5
}
