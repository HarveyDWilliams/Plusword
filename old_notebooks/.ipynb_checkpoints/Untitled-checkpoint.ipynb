{
 "cells": [
  {
   "cell_type": "code",
   "execution_count": 1,
   "id": "224c7a1e-4aea-4657-b77b-835623a88edb",
   "metadata": {},
   "outputs": [],
   "source": [
    "import time\n",
    "import pandas as pd\n",
    "from bs4 import BeautifulSoup\n",
    "import requests\n",
    "from concurrent.futures import ThreadPoolExecutor\n",
    "import itertools"
   ]
  },
  {
   "cell_type": "code",
   "execution_count": 2,
   "id": "d8b8ced0-0c86-405c-9687-6ac2fc8d1550",
   "metadata": {},
   "outputs": [],
   "source": [
    "url_list = [\n",
    "    'https://www.mumsnet.com/talk/am_i_being_unreasonable/4676538-if-you-like-wordle-plusword-is-even-better-thread-4?page=',\n",
    "    #'https://www.mumsnet.com/talk/_chat/4714295-plusword-new-thread-1?page=',\n",
    "    #'https://www.mumsnet.com/talk/_chat/4765702-plusword-new-thread-2?page='\n",
    "]"
   ]
  },
  {
   "cell_type": "code",
   "execution_count": 3,
   "id": "77a6a6ad-f41c-4c58-841b-8107661c26a5",
   "metadata": {},
   "outputs": [
    {
     "data": {
      "text/plain": [
       "['https://www.mumsnet.com/talk/am_i_being_unreasonable/4676538-if-you-like-wordle-plusword-is-even-better-thread-4?page=']"
      ]
     },
     "execution_count": 3,
     "metadata": {},
     "output_type": "execute_result"
    }
   ],
   "source": [
    "url_list"
   ]
  },
  {
   "cell_type": "code",
   "execution_count": 4,
   "id": "504af870-e9e8-463b-a4c2-0aca7e6e70f7",
   "metadata": {},
   "outputs": [],
   "source": [
    "url = url_list[0]"
   ]
  },
  {
   "cell_type": "code",
   "execution_count": 5,
   "id": "a67117e7-7334-41f8-8ced-60f5b987d1dd",
   "metadata": {},
   "outputs": [],
   "source": [
    "# maximum number of pages in thread\n",
    "max_pages = 41\n",
    "\n",
    "# html class of original post from the thread\n",
    "original_post_class = 'p-4 pb-1 pt-2.5 lg:py-2.5 mt-2.5 lg:mt-1.5 border-t border-b sm:border sm:rounded ' \\\n",
    "                   'border-mumsnet-forest-border bg-mumsnet-forest dark:bg-mumsnet-forest-dark'\n",
    "\n",
    "# html class of a normal post from the thread\n",
    "normal_post_class = 'lg:py-2.5 pt-2.5 pb-1 p-4 border-t border-b sm:border sm:rounded mt-1.5 overflow-x-hidden ' \\\n",
    "                     'bg-white dark:bg-gray-800 border-gray-200'\n",
    "\n",
    "# html class of a post from the thread creator\n",
    "original_poster_reply_class = 'lg:py-2.5 pt-2.5 pb-1 p-4 border-t border-b sm:border sm:rounded mt-1.5 ' \\\n",
    "                              'overflow-x-hidden bg-mumsnet-forest dark:bg-mumsnet-forest-dark ' \\\n",
    "                              'border-mumsnet-forest-border'\n",
    "\n",
    "# gets request via bs4\n",
    "\n",
    "r = requests.get(url)\n",
    "soup = BeautifulSoup(r.content, features=\"html5lib\")"
   ]
  },
  {
   "cell_type": "code",
   "execution_count": 6,
   "id": "c5288cf7-78e6-4399-9831-50049c60fcde",
   "metadata": {},
   "outputs": [
    {
     "ename": "AttributeError",
     "evalue": "'list' object has no attribute 'splitlines'",
     "output_type": "error",
     "traceback": [
      "\u001b[0;31m---------------------------------------------------------------------------\u001b[0m",
      "\u001b[0;31mAttributeError\u001b[0m                            Traceback (most recent call last)",
      "\u001b[0;32m/tmp/ipykernel_18145/3172112334.py\u001b[0m in \u001b[0;36m<module>\u001b[0;34m\u001b[0m\n\u001b[1;32m      4\u001b[0m \u001b[0;32mfor\u001b[0m \u001b[0mpost\u001b[0m \u001b[0;32min\u001b[0m \u001b[0mop\u001b[0m\u001b[0;34m:\u001b[0m\u001b[0;34m\u001b[0m\u001b[0;34m\u001b[0m\u001b[0m\n\u001b[1;32m      5\u001b[0m     \u001b[0mpost_text\u001b[0m \u001b[0;34m=\u001b[0m \u001b[0mpost\u001b[0m\u001b[0;34m.\u001b[0m\u001b[0mgetText\u001b[0m\u001b[0;34m(\u001b[0m\u001b[0;34m)\u001b[0m\u001b[0;34m.\u001b[0m\u001b[0msplit\u001b[0m\u001b[0;34m(\u001b[0m\u001b[0;34m)\u001b[0m\u001b[0;34m\u001b[0m\u001b[0;34m\u001b[0m\u001b[0m\n\u001b[0;32m----> 6\u001b[0;31m     \u001b[0mpost_text\u001b[0m \u001b[0;34m=\u001b[0m \u001b[0;34m''\u001b[0m\u001b[0;34m.\u001b[0m\u001b[0mjoin\u001b[0m\u001b[0;34m(\u001b[0m\u001b[0mpost_text\u001b[0m\u001b[0;34m.\u001b[0m\u001b[0msplitlines\u001b[0m\u001b[0;34m(\u001b[0m\u001b[0;34m)\u001b[0m\u001b[0;34m)\u001b[0m\u001b[0;34m\u001b[0m\u001b[0;34m\u001b[0m\u001b[0m\n\u001b[0m\u001b[1;32m      7\u001b[0m     \u001b[0mop_list\u001b[0m\u001b[0;34m.\u001b[0m\u001b[0mappend\u001b[0m\u001b[0;34m(\u001b[0m\u001b[0mpost_text\u001b[0m\u001b[0;34m)\u001b[0m\u001b[0;34m\u001b[0m\u001b[0;34m\u001b[0m\u001b[0m\n\u001b[1;32m      8\u001b[0m \u001b[0mop_list\u001b[0m\u001b[0;34m\u001b[0m\u001b[0;34m\u001b[0m\u001b[0m\n",
      "\u001b[0;31mAttributeError\u001b[0m: 'list' object has no attribute 'splitlines'"
     ]
    }
   ],
   "source": [
    "op_list = []\n",
    "original_post = soup.find('div', class_=original_post_class)\n",
    "op = original_post.find_all('div', class_='')[2].find_all('p')\n",
    "for post in op:\n",
    "    post_text = post.getText().split()\n",
    "\n",
    "    op_list.append(post_text)\n",
    "op_list"
   ]
  },
  {
   "cell_type": "code",
   "execution_count": null,
   "id": "d6d567db-9371-40f4-94d9-abaa78501c49",
   "metadata": {},
   "outputs": [],
   "source": []
  },
  {
   "cell_type": "code",
   "execution_count": null,
   "id": "7e896eec-aa97-4242-9414-7fd84ca4b850",
   "metadata": {},
   "outputs": [],
   "source": [
    "posts = soup.find_all('div', class_=[normal_post_class, original_poster_reply_class])\n",
    "del posts[0]"
   ]
  },
  {
   "cell_type": "code",
   "execution_count": null,
   "id": "7eb74d4c-9d82-40b3-bf60-c93624f3f651",
   "metadata": {
    "tags": []
   },
   "outputs": [],
   "source": [
    "for post in posts:\n",
    "    post_text = post.getText().split()\n",
    "    # separates out meta data and post body\n",
    "    meta_data = post_text[:4]\n",
    "    post_body = post_text[4:]\n",
    "    \n",
    "    # removes fullstop from meta data\n",
    "    meta_data.pop(1)\n",
    "    \n",
    "    # converts whole of post body to one string\n",
    "    post_body = ' '.join(post_body)\n",
    "    meta_data.append(post_body)\n",
    "    whole_post = meta_data\n",
    "    print(whole_post)"
   ]
  },
  {
   "cell_type": "code",
   "execution_count": null,
   "id": "e1e2a1e1-ede0-48d9-aeee-8c9c716dc85b",
   "metadata": {},
   "outputs": [],
   "source": []
  }
 ],
 "metadata": {
  "kernelspec": {
   "display_name": "Python 3 (ipykernel)",
   "language": "python",
   "name": "python3"
  },
  "language_info": {
   "codemirror_mode": {
    "name": "ipython",
    "version": 3
   },
   "file_extension": ".py",
   "mimetype": "text/x-python",
   "name": "python",
   "nbconvert_exporter": "python",
   "pygments_lexer": "ipython3",
   "version": "3.10.6"
  }
 },
 "nbformat": 4,
 "nbformat_minor": 5
}
