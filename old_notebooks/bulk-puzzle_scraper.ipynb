{
 "cells": [
  {
   "cell_type": "code",
   "execution_count": 1,
   "id": "cdc6c3ff-af57-4b11-b12b-e272decad9a6",
   "metadata": {
    "tags": []
   },
   "outputs": [],
   "source": [
    "import pandas as pd\n",
    "from bs4 import BeautifulSoup\n",
    "import requests\n",
    "import json\n",
    "from selenium import webdriver\n",
    "from selenium.webdriver.common.by import By\n",
    "from selenium.webdriver.firefox.options import Options as FirefoxOptions\n",
    "from selenium.webdriver.support.ui import WebDriverWait\n",
    "from selenium.webdriver.support import expected_conditions as EC\n",
    "import re\n",
    "from time import sleep\n",
    "from selenium.webdriver.common.keys import Keys\n",
    "from datetime import datetime, timedelta\n",
    "import random"
   ]
  },
  {
   "cell_type": "code",
   "execution_count": 2,
   "id": "e5faf5ea-8ff2-4c0b-8287-2d9446b6a0ba",
   "metadata": {
    "tags": []
   },
   "outputs": [],
   "source": [
    "first_plusword_num = 14998\n",
    "first_plusword_date = '2022-05-22'\n",
    "first_plusword_date = datetime.fromisoformat(first_plusword_date)\n",
    "\n"
   ]
  },
  {
   "cell_type": "code",
   "execution_count": 3,
   "id": "3ee73a7f-f480-4def-acea-29584da3c8dc",
   "metadata": {},
   "outputs": [],
   "source": [
    "url ='https://www.telegraph.co.uk/puzzles/puzzles/?source=archive#plusword/plusword/plusword-19952'\n",
    "driver = webdriver.Firefox()\n",
    "driver.get(url)\n",
    "sleep(2)\n",
    "email = 'tomwhittingtont@gmail.com'\n",
    "password = '7P7gp8pMu86ycUV'\n",
    "driver.switch_to.frame('sp_message_iframe_784380')\n",
    "#driver = WebDriverWait(driver, 20).until(EC.presence_of_element_located((By.ID, '/html/body/div/div[2]/div[3]/div/div[2]/div[2]/button[1]'))).click()\n",
    "driver.find_element(By.XPATH, '/html/body/div/div[2]/div[3]/div/div[2]/div[2]/button[1]').click()\n",
    "sleep(2)\n",
    "driver.refresh()\n",
    "driver.find_element(By.XPATH, '/html/body/div[1]/div[2]/div/div[1]/p[2]/a').click()\n",
    "sleep(2)\n",
    "driver.find_element(By.ID, \"email\").send_keys(email)\n",
    "#username_input.\n",
    "driver.find_element(By.ID, 'login-button').click()\n",
    "sleep(2)\n",
    "driver.find_element(By.ID, \"password\").send_keys(password)\n",
    "driver.find_element(By.ID, 'login-button').click()\n",
    "sleep(2)"
   ]
  },
  {
   "cell_type": "code",
   "execution_count": 4,
   "id": "39a147d2-dcc3-4daa-a75c-455235f19cfe",
   "metadata": {
    "tags": []
   },
   "outputs": [],
   "source": [
    "url_stem = 'https://www.telegraph.co.uk/puzzles/puzzles/?source=archive#plusword/plusword/plusword-'"
   ]
  },
  {
   "cell_type": "code",
   "execution_count": 5,
   "id": "8b6e733d-aba2-4451-8399-2c3dc081903f",
   "metadata": {},
   "outputs": [],
   "source": [
    "url_list =[]\n",
    "for _ in range(0, 300):\n",
    "    plusword_num = random.randint(0,60)\n",
    "    \n",
    "\n",
    "    url = url_stem + str(first_plusword_num + plusword_num)\n",
    "    url_list.append(url)"
   ]
  },
  {
   "cell_type": "markdown",
   "id": "f881cc3b-abc5-4b44-8458-076805bbd425",
   "metadata": {
    "tags": []
   },
   "source": [
    "row_list =[]\n",
    "\n",
    "for url in url_list:\n",
    "    \n",
    "    try:\n",
    "        driver.get(url)\n",
    "        sleep(2)\n",
    "        driver.switch_to.frame('gameplayiframe')\n",
    "        sleep(5)\n",
    "        driver.find_element(By.XPATH, '/html/body/div[2]/div[9]/header/button').click()\n",
    "        \n",
    "        \n",
    "    except:\n",
    "        pass\n",
    "    \n",
    "        driver.find_element(By.XPATH, '/html/body/div[2]/div[1]/header/ul[2]/li[1]/button').click()\n",
    "        driver.find_element(By.XPATH, '/html/body/div[2]/div[1]/header/ul[2]/li[1]/div[2]/ul/li[3]/button').click()\n",
    "        driver.find_element(By.XPATH, '/html/body/div[2]/div[1]/header/ul[2]/li[1]/div[1]/ul/li[1]/button').click()\n",
    "        \n",
    "        row={}\n",
    "        yellow = []\n",
    "        green = []\n",
    "        answer=''\n",
    "\n",
    "        puzzle_number = driver.find_elements(By.CLASS_NAME, \"hangboard\")\n",
    "        puzzle_number = puzzle_number[0].find_element(By. TAG_NAME, 'h1')\n",
    "        puzzle_number = puzzle_number.text\n",
    "\n",
    "        puzzle_number=int(''.join(str(number) for number in re.findall(r'\\d+', puzzle_number)))\n",
    "\n",
    "        plusword_date = first_plusword_date +  timedelta(days=puzzle_number)\n",
    "\n",
    "        plusword_date =plusword_date.strftime(\"%Y-%m-%d\")\n",
    "\n",
    "        row.update({'date' : plusword_date, 'puzzle_number' : str(puzzle_number)})\n",
    "\n",
    "        clues = driver.find_elements(By.CLASS_NAME, \"clue__text\")\n",
    "\n",
    "\n",
    "        clue_num = 0\n",
    "        for clue in clues[0:5]:\n",
    "            clue_num +=1\n",
    "            row.update({'clue_across_' + str(clue_num) :clue.text})\n",
    "\n",
    "        clue_num = 0\n",
    "        for clue in clues[5:10]:\n",
    "            clue_num +=1\n",
    "            row.update({'clue_down_' + str(clue_num) :clue.text})\n",
    "\n",
    "\n",
    "\n",
    "        for table_row in driver.find_elements(By.CLASS_NAME, \"row\"):\n",
    "            for cell in table_row.find_elements(By.TAG_NAME, 'td'):\n",
    "                letter = cell.find_element(By.CLASS_NAME, 'letter')\n",
    "                answer = answer + letter.text\n",
    "\n",
    "                cell_class = cell.get_attribute(\"class\")\n",
    "\n",
    "                if 'right-letter-wrong-column' in cell_class:\n",
    "                    yellow.append((int(re.search('C\\d*', cell_class).group(0).strip('C'))) +1)\n",
    "\n",
    "                if 'right-letter-right-column' in cell_class:\n",
    "                    green.append((int(re.search('C\\d*', cell_class).group(0).strip('C'))) +1 )\n",
    "\n",
    "        row.update({'plusword_solution' : answer[-5:]})\n",
    "\n",
    "        for answer_num in range(1,6):\n",
    "            row.update({'answer_' + str(answer_num) : answer[5*(answer_num-1):(5*answer_num)]})\n",
    "        row.update({'yellow' : yellow, 'green' : green})\n",
    "        \n",
    "        row_list.append(row)\n",
    "        sleep(5)"
   ]
  },
  {
   "cell_type": "markdown",
   "id": "ab7c55da-c0b9-471d-bc9f-61785b2c84c9",
   "metadata": {},
   "source": [
    "row_list"
   ]
  },
  {
   "cell_type": "markdown",
   "id": "cf8739f2-7a1d-4f6f-ad74-be4105d9f7bc",
   "metadata": {},
   "source": [
    "df = pd.DataFrame.from_records([row])"
   ]
  },
  {
   "cell_type": "markdown",
   "id": "64dc8b45-0401-4f38-a5af-54244119895a",
   "metadata": {
    "tags": []
   },
   "source": [
    "df"
   ]
  },
  {
   "cell_type": "code",
   "execution_count": 6,
   "id": "1ece8336-4fb0-4fe1-9d87-e5bf5bded1d0",
   "metadata": {
    "tags": []
   },
   "outputs": [
    {
     "ename": "ElementNotInteractableException",
     "evalue": "Message: Element <a href=\"https://secure.telegraph.co.uk/customer/secure/login?icid=puzzles_login_paywall&redirectTo=https%3A%2F%2Fwww.telegraph.co.uk%2Fpuzzles%2F\"> could not be scrolled into view\nStacktrace:\nRemoteError@chrome://remote/content/shared/RemoteError.sys.mjs:8:8\nWebDriverError@chrome://remote/content/shared/webdriver/Errors.sys.mjs:182:5\nElementNotInteractableError@chrome://remote/content/shared/webdriver/Errors.sys.mjs:292:5\nwebdriverClickElement@chrome://remote/content/marionette/interaction.sys.mjs:150:11\ninteraction.clickElement@chrome://remote/content/marionette/interaction.sys.mjs:119:11\nclickElement@chrome://remote/content/marionette/actors/MarionetteCommandsChild.sys.mjs:208:29\nreceiveMessage@chrome://remote/content/marionette/actors/MarionetteCommandsChild.sys.mjs:97:31\n",
     "output_type": "error",
     "traceback": [
      "\u001b[0;31m---------------------------------------------------------------------------\u001b[0m",
      "\u001b[0;31mElementNotInteractableException\u001b[0m           Traceback (most recent call last)",
      "\u001b[0;32m/tmp/ipykernel_23939/654022167.py\u001b[0m in \u001b[0;36m<module>\u001b[0;34m\u001b[0m\n\u001b[1;32m     16\u001b[0m     \u001b[0msleep\u001b[0m\u001b[0;34m(\u001b[0m\u001b[0;36m2\u001b[0m\u001b[0;34m)\u001b[0m\u001b[0;34m\u001b[0m\u001b[0;34m\u001b[0m\u001b[0m\n\u001b[1;32m     17\u001b[0m     \u001b[0mdriver\u001b[0m\u001b[0;34m.\u001b[0m\u001b[0mrefresh\u001b[0m\u001b[0;34m(\u001b[0m\u001b[0;34m)\u001b[0m\u001b[0;34m\u001b[0m\u001b[0;34m\u001b[0m\u001b[0m\n\u001b[0;32m---> 18\u001b[0;31m     \u001b[0mdriver\u001b[0m\u001b[0;34m.\u001b[0m\u001b[0mfind_element\u001b[0m\u001b[0;34m(\u001b[0m\u001b[0mBy\u001b[0m\u001b[0;34m.\u001b[0m\u001b[0mXPATH\u001b[0m\u001b[0;34m,\u001b[0m \u001b[0;34m'/html/body/div[1]/div[2]/div/div[1]/p[2]/a'\u001b[0m\u001b[0;34m)\u001b[0m\u001b[0;34m.\u001b[0m\u001b[0mclick\u001b[0m\u001b[0;34m(\u001b[0m\u001b[0;34m)\u001b[0m\u001b[0;34m\u001b[0m\u001b[0;34m\u001b[0m\u001b[0m\n\u001b[0m\u001b[1;32m     19\u001b[0m     \u001b[0msleep\u001b[0m\u001b[0;34m(\u001b[0m\u001b[0;36m2\u001b[0m\u001b[0;34m)\u001b[0m\u001b[0;34m\u001b[0m\u001b[0;34m\u001b[0m\u001b[0m\n\u001b[1;32m     20\u001b[0m     \u001b[0mdriver\u001b[0m\u001b[0;34m.\u001b[0m\u001b[0mfind_element\u001b[0m\u001b[0;34m(\u001b[0m\u001b[0mBy\u001b[0m\u001b[0;34m.\u001b[0m\u001b[0mID\u001b[0m\u001b[0;34m,\u001b[0m \u001b[0;34m\"email\"\u001b[0m\u001b[0;34m)\u001b[0m\u001b[0;34m.\u001b[0m\u001b[0msend_keys\u001b[0m\u001b[0;34m(\u001b[0m\u001b[0memail\u001b[0m\u001b[0;34m)\u001b[0m\u001b[0;34m\u001b[0m\u001b[0;34m\u001b[0m\u001b[0m\n",
      "\u001b[0;32m~/.local/lib/python3.10/site-packages/selenium/webdriver/remote/webelement.py\u001b[0m in \u001b[0;36mclick\u001b[0;34m(self)\u001b[0m\n\u001b[1;32m     92\u001b[0m     \u001b[0;32mdef\u001b[0m \u001b[0mclick\u001b[0m\u001b[0;34m(\u001b[0m\u001b[0mself\u001b[0m\u001b[0;34m)\u001b[0m \u001b[0;34m->\u001b[0m \u001b[0;32mNone\u001b[0m\u001b[0;34m:\u001b[0m\u001b[0;34m\u001b[0m\u001b[0;34m\u001b[0m\u001b[0m\n\u001b[1;32m     93\u001b[0m         \u001b[0;34m\"\"\"Clicks the element.\"\"\"\u001b[0m\u001b[0;34m\u001b[0m\u001b[0;34m\u001b[0m\u001b[0m\n\u001b[0;32m---> 94\u001b[0;31m         \u001b[0mself\u001b[0m\u001b[0;34m.\u001b[0m\u001b[0m_execute\u001b[0m\u001b[0;34m(\u001b[0m\u001b[0mCommand\u001b[0m\u001b[0;34m.\u001b[0m\u001b[0mCLICK_ELEMENT\u001b[0m\u001b[0;34m)\u001b[0m\u001b[0;34m\u001b[0m\u001b[0;34m\u001b[0m\u001b[0m\n\u001b[0m\u001b[1;32m     95\u001b[0m \u001b[0;34m\u001b[0m\u001b[0m\n\u001b[1;32m     96\u001b[0m     \u001b[0;32mdef\u001b[0m \u001b[0msubmit\u001b[0m\u001b[0;34m(\u001b[0m\u001b[0mself\u001b[0m\u001b[0;34m)\u001b[0m\u001b[0;34m:\u001b[0m\u001b[0;34m\u001b[0m\u001b[0;34m\u001b[0m\u001b[0m\n",
      "\u001b[0;32m~/.local/lib/python3.10/site-packages/selenium/webdriver/remote/webelement.py\u001b[0m in \u001b[0;36m_execute\u001b[0;34m(self, command, params)\u001b[0m\n\u001b[1;32m    401\u001b[0m             \u001b[0mparams\u001b[0m \u001b[0;34m=\u001b[0m \u001b[0;34m{\u001b[0m\u001b[0;34m}\u001b[0m\u001b[0;34m\u001b[0m\u001b[0;34m\u001b[0m\u001b[0m\n\u001b[1;32m    402\u001b[0m         \u001b[0mparams\u001b[0m\u001b[0;34m[\u001b[0m\u001b[0;34m\"id\"\u001b[0m\u001b[0;34m]\u001b[0m \u001b[0;34m=\u001b[0m \u001b[0mself\u001b[0m\u001b[0;34m.\u001b[0m\u001b[0m_id\u001b[0m\u001b[0;34m\u001b[0m\u001b[0;34m\u001b[0m\u001b[0m\n\u001b[0;32m--> 403\u001b[0;31m         \u001b[0;32mreturn\u001b[0m \u001b[0mself\u001b[0m\u001b[0;34m.\u001b[0m\u001b[0m_parent\u001b[0m\u001b[0;34m.\u001b[0m\u001b[0mexecute\u001b[0m\u001b[0;34m(\u001b[0m\u001b[0mcommand\u001b[0m\u001b[0;34m,\u001b[0m \u001b[0mparams\u001b[0m\u001b[0;34m)\u001b[0m\u001b[0;34m\u001b[0m\u001b[0;34m\u001b[0m\u001b[0m\n\u001b[0m\u001b[1;32m    404\u001b[0m \u001b[0;34m\u001b[0m\u001b[0m\n\u001b[1;32m    405\u001b[0m     \u001b[0;32mdef\u001b[0m \u001b[0mfind_element\u001b[0m\u001b[0;34m(\u001b[0m\u001b[0mself\u001b[0m\u001b[0;34m,\u001b[0m \u001b[0mby\u001b[0m\u001b[0;34m=\u001b[0m\u001b[0mBy\u001b[0m\u001b[0;34m.\u001b[0m\u001b[0mID\u001b[0m\u001b[0;34m,\u001b[0m \u001b[0mvalue\u001b[0m\u001b[0;34m=\u001b[0m\u001b[0;32mNone\u001b[0m\u001b[0;34m)\u001b[0m \u001b[0;34m->\u001b[0m \u001b[0mWebElement\u001b[0m\u001b[0;34m:\u001b[0m\u001b[0;34m\u001b[0m\u001b[0;34m\u001b[0m\u001b[0m\n",
      "\u001b[0;32m~/.local/lib/python3.10/site-packages/selenium/webdriver/remote/webdriver.py\u001b[0m in \u001b[0;36mexecute\u001b[0;34m(self, driver_command, params)\u001b[0m\n\u001b[1;32m    438\u001b[0m         \u001b[0mresponse\u001b[0m \u001b[0;34m=\u001b[0m \u001b[0mself\u001b[0m\u001b[0;34m.\u001b[0m\u001b[0mcommand_executor\u001b[0m\u001b[0;34m.\u001b[0m\u001b[0mexecute\u001b[0m\u001b[0;34m(\u001b[0m\u001b[0mdriver_command\u001b[0m\u001b[0;34m,\u001b[0m \u001b[0mparams\u001b[0m\u001b[0;34m)\u001b[0m\u001b[0;34m\u001b[0m\u001b[0;34m\u001b[0m\u001b[0m\n\u001b[1;32m    439\u001b[0m         \u001b[0;32mif\u001b[0m \u001b[0mresponse\u001b[0m\u001b[0;34m:\u001b[0m\u001b[0;34m\u001b[0m\u001b[0;34m\u001b[0m\u001b[0m\n\u001b[0;32m--> 440\u001b[0;31m             \u001b[0mself\u001b[0m\u001b[0;34m.\u001b[0m\u001b[0merror_handler\u001b[0m\u001b[0;34m.\u001b[0m\u001b[0mcheck_response\u001b[0m\u001b[0;34m(\u001b[0m\u001b[0mresponse\u001b[0m\u001b[0;34m)\u001b[0m\u001b[0;34m\u001b[0m\u001b[0;34m\u001b[0m\u001b[0m\n\u001b[0m\u001b[1;32m    441\u001b[0m             \u001b[0mresponse\u001b[0m\u001b[0;34m[\u001b[0m\u001b[0;34m\"value\"\u001b[0m\u001b[0;34m]\u001b[0m \u001b[0;34m=\u001b[0m \u001b[0mself\u001b[0m\u001b[0;34m.\u001b[0m\u001b[0m_unwrap_value\u001b[0m\u001b[0;34m(\u001b[0m\u001b[0mresponse\u001b[0m\u001b[0;34m.\u001b[0m\u001b[0mget\u001b[0m\u001b[0;34m(\u001b[0m\u001b[0;34m\"value\"\u001b[0m\u001b[0;34m,\u001b[0m \u001b[0;32mNone\u001b[0m\u001b[0;34m)\u001b[0m\u001b[0;34m)\u001b[0m\u001b[0;34m\u001b[0m\u001b[0;34m\u001b[0m\u001b[0m\n\u001b[1;32m    442\u001b[0m             \u001b[0;32mreturn\u001b[0m \u001b[0mresponse\u001b[0m\u001b[0;34m\u001b[0m\u001b[0;34m\u001b[0m\u001b[0m\n",
      "\u001b[0;32m~/.local/lib/python3.10/site-packages/selenium/webdriver/remote/errorhandler.py\u001b[0m in \u001b[0;36mcheck_response\u001b[0;34m(self, response)\u001b[0m\n\u001b[1;32m    243\u001b[0m                 \u001b[0malert_text\u001b[0m \u001b[0;34m=\u001b[0m \u001b[0mvalue\u001b[0m\u001b[0;34m[\u001b[0m\u001b[0;34m\"alert\"\u001b[0m\u001b[0;34m]\u001b[0m\u001b[0;34m.\u001b[0m\u001b[0mget\u001b[0m\u001b[0;34m(\u001b[0m\u001b[0;34m\"text\"\u001b[0m\u001b[0;34m)\u001b[0m\u001b[0;34m\u001b[0m\u001b[0;34m\u001b[0m\u001b[0m\n\u001b[1;32m    244\u001b[0m             \u001b[0;32mraise\u001b[0m \u001b[0mexception_class\u001b[0m\u001b[0;34m(\u001b[0m\u001b[0mmessage\u001b[0m\u001b[0;34m,\u001b[0m \u001b[0mscreen\u001b[0m\u001b[0;34m,\u001b[0m \u001b[0mstacktrace\u001b[0m\u001b[0;34m,\u001b[0m \u001b[0malert_text\u001b[0m\u001b[0;34m)\u001b[0m  \u001b[0;31m# type: ignore[call-arg]  # mypy is not smart enough here\u001b[0m\u001b[0;34m\u001b[0m\u001b[0;34m\u001b[0m\u001b[0m\n\u001b[0;32m--> 245\u001b[0;31m         \u001b[0;32mraise\u001b[0m \u001b[0mexception_class\u001b[0m\u001b[0;34m(\u001b[0m\u001b[0mmessage\u001b[0m\u001b[0;34m,\u001b[0m \u001b[0mscreen\u001b[0m\u001b[0;34m,\u001b[0m \u001b[0mstacktrace\u001b[0m\u001b[0;34m)\u001b[0m\u001b[0;34m\u001b[0m\u001b[0;34m\u001b[0m\u001b[0m\n\u001b[0m",
      "\u001b[0;31mElementNotInteractableException\u001b[0m: Message: Element <a href=\"https://secure.telegraph.co.uk/customer/secure/login?icid=puzzles_login_paywall&redirectTo=https%3A%2F%2Fwww.telegraph.co.uk%2Fpuzzles%2F\"> could not be scrolled into view\nStacktrace:\nRemoteError@chrome://remote/content/shared/RemoteError.sys.mjs:8:8\nWebDriverError@chrome://remote/content/shared/webdriver/Errors.sys.mjs:182:5\nElementNotInteractableError@chrome://remote/content/shared/webdriver/Errors.sys.mjs:292:5\nwebdriverClickElement@chrome://remote/content/marionette/interaction.sys.mjs:150:11\ninteraction.clickElement@chrome://remote/content/marionette/interaction.sys.mjs:119:11\nclickElement@chrome://remote/content/marionette/actors/MarionetteCommandsChild.sys.mjs:208:29\nreceiveMessage@chrome://remote/content/marionette/actors/MarionetteCommandsChild.sys.mjs:97:31\n"
     ]
    }
   ],
   "source": [
    "\n",
    "for url in url_list:\n",
    "    \n",
    "    df_main = pd.read_csv('main.csv')\n",
    "    df_main['puzzle_number'] = df_main['puzzle_number'].astype('int')\n",
    "    done = df_main['puzzle_number'].values.tolist()\n",
    "    done.append(5)\n",
    "    \n",
    "    driver = webdriver.Firefox()\n",
    "    driver.get(url)\n",
    "    sleep(2)\n",
    "    email = 'tomwhittingtont@gmail.com'\n",
    "    password = '7P7gp8pMu86ycUV'\n",
    "    driver.switch_to.frame('sp_message_iframe_784380')\n",
    "    #driver = WebDriverWait(driver, 20).until(EC.presence_of_element_located((By.ID, '/html/body/div/div[2]/div[3]/div/div[2]/div[2]/button[1]'))).click()\n",
    "    driver.find_element(By.XPATH, '/html/body/div/div[2]/div[3]/div/div[2]/div[2]/button[1]').click()\n",
    "    sleep(2)\n",
    "    driver.refresh()\n",
    "    driver.find_element(By.XPATH, '/html/body/div[1]/div[2]/div/div[1]/p[2]/a').click()\n",
    "    sleep(2)\n",
    "    driver.find_element(By.ID, \"email\").send_keys(email)\n",
    "    #username_input.\n",
    "    driver.find_element(By.ID, 'login-button').click()\n",
    "    sleep(2)\n",
    "    driver.find_element(By.ID, \"password\").send_keys(password)\n",
    "    driver.find_element(By.ID, 'login-button').click()\n",
    "    sleep(2)\n",
    "\n",
    "    \n",
    "    row_list =[]\n",
    "    puzzle_number_list=[]\n",
    "    plusword_date_list = []\n",
    "    yello_list = []\n",
    "    green_list =[]\n",
    "    my_dict= {'date' : [],\n",
    "          'puzzle_number' : [],\n",
    "          'plusword_solution' : [],\n",
    "          'clue_across_1' : [],\n",
    "          'clue_across_2' : [],\n",
    "          'clue_across_3' : [],\n",
    "          'clue_across_4' : [],\n",
    "          'clue_across_5' : [],\n",
    "          'clue_down_1' : [],\n",
    "          'clue_down_2' : [],\n",
    "          'clue_down_3' : [],\n",
    "          'clue_down_4' : [],\n",
    "          'clue_down_5' : [],\n",
    "          'answer_1' : [],\n",
    "          'answer_2' : [],\n",
    "          'answer_3' : [],\n",
    "          'answer_4' : [],\n",
    "          'answer_5' : [],\n",
    "          'yellow' : [],\n",
    "          'green' : []\n",
    "         }\n",
    "    \n",
    "    driver.refresh()\n",
    "    \n",
    "    try:\n",
    "        \n",
    "    \n",
    "        try:\n",
    "\n",
    "            driver.get(url)\n",
    "            sleep(15)\n",
    "            driver.refresh()\n",
    "        except:\n",
    "            pass\n",
    "\n",
    "        try:\n",
    "            driver.switch_to.frame('gameplayiframe')\n",
    "            sleep(5)\n",
    "        except:\n",
    "            pass\n",
    "\n",
    "        try:\n",
    "            driver.find_element(By.XPATH, '/html/body/div[2]/div[9]/header/button').click()\n",
    "        except:\n",
    "            pass\n",
    "\n",
    "        try:\n",
    "            driver.find_element(By.XPATH, '/html/body/div[2]/div[1]/header/ul[2]/li[1]/button').click()\n",
    "        except:\n",
    "            pass\n",
    "            driver.find_element(By.XPATH, '/html/body/div[2]/div[1]/header/ul[2]/li[1]/div[2]/ul/li[3]/button').click()\n",
    "            driver.find_element(By.XPATH, '/html/body/div[2]/div[1]/header/ul[2]/li[1]/div[1]/ul/li[1]/button').click()\n",
    "\n",
    "            yellow = []\n",
    "            green = []\n",
    "            answer=''\n",
    "\n",
    "            puzzle_number = driver.find_elements(By.CLASS_NAME, \"hangboard\")\n",
    "            puzzle_number = puzzle_number[0].find_element(By. TAG_NAME, 'h1')\n",
    "            puzzle_number = puzzle_number.text\n",
    "            puzzle_number =int(''.join(str(number) for number in re.findall(r'\\d+', puzzle_number)))\n",
    "\n",
    "            plusword_date = first_plusword_date +  timedelta(days=puzzle_number)\n",
    "\n",
    "            plusword_date=plusword_date.strftime(\"%Y-%m-%d\")\n",
    "\n",
    "            my_dict['date'].append(plusword_date)\n",
    "            my_dict['puzzle_number'].append(str(puzzle_number))\n",
    "\n",
    "            clues = driver.find_elements(By.CLASS_NAME, \"clue__text\")\n",
    "\n",
    "\n",
    "            clue_num = 0\n",
    "            for clue in clues[0:5]:\n",
    "                clue_num +=1\n",
    "                my_dict['clue_across_' + str(clue_num)].append(clue.text)\n",
    "\n",
    "            clue_num = 0\n",
    "            for clue in clues[5:10]:\n",
    "                clue_num +=1\n",
    "                my_dict['clue_down_' + str(clue_num)].append(clue.text)\n",
    "\n",
    "\n",
    "\n",
    "            for table_row in driver.find_elements(By.CLASS_NAME, \"row\"):\n",
    "                for cell in table_row.find_elements(By.TAG_NAME, 'td'):\n",
    "                    letter = cell.find_element(By.CLASS_NAME, 'letter')\n",
    "                    answer = answer + letter.text\n",
    "\n",
    "                    cell_class = cell.get_attribute(\"class\")\n",
    "\n",
    "                    if 'right-letter-wrong-column' in cell_class:\n",
    "                        yellow.append((int(re.search('C\\d*', cell_class).group(0).strip('C'))) +1)\n",
    "\n",
    "                    if 'right-letter-right-column' in cell_class:\n",
    "                        green.append((int(re.search('C\\d*', cell_class).group(0).strip('C'))) +1 )\n",
    "\n",
    "            my_dict['plusword_solution'].append(answer[-5:])\n",
    "\n",
    "            for answer_num in range(1,6):\n",
    "                    my_dict['answer_' + str(answer_num)].append(answer[5*(answer_num-1):(5*answer_num)])\n",
    "            my_dict['yellow'].append(yellow)\n",
    "            my_dict['green'].append(green)\n",
    "\n",
    "            print(my_dict)\n",
    "\n",
    "            df = pd.DataFrame.from_dict(my_dict)\n",
    "            df_main = pd.concat([df_main, df])\n",
    "            df_main = df_main.drop_duplicates(subset=['date'])\n",
    "            df_main.to_csv('main.csv', index=False)\n",
    "\n",
    "\n",
    "            sleep(5)\n",
    "    except:\n",
    "        pass"
   ]
  },
  {
   "cell_type": "code",
   "execution_count": null,
   "id": "5905c871-0ab3-4985-a65a-4d68f1e63c14",
   "metadata": {
    "tags": []
   },
   "outputs": [],
   "source": [
    "my_dict"
   ]
  },
  {
   "cell_type": "code",
   "execution_count": null,
   "id": "db9115b8-497d-4471-a943-d4e8075b4250",
   "metadata": {
    "tags": []
   },
   "outputs": [],
   "source": []
  },
  {
   "cell_type": "code",
   "execution_count": null,
   "id": "d3bca9b5-7abd-4616-beeb-7a81ee03fab2",
   "metadata": {
    "tags": []
   },
   "outputs": [],
   "source": []
  },
  {
   "cell_type": "code",
   "execution_count": null,
   "id": "b2c4a779-b808-4043-ae77-85970a693611",
   "metadata": {
    "tags": []
   },
   "outputs": [],
   "source": [
    "df_main"
   ]
  }
 ],
 "metadata": {
  "kernelspec": {
   "display_name": "Python 3 (ipykernel)",
   "language": "python",
   "name": "python3"
  },
  "language_info": {
   "codemirror_mode": {
    "name": "ipython",
    "version": 3
   },
   "file_extension": ".py",
   "mimetype": "text/x-python",
   "name": "python",
   "nbconvert_exporter": "python",
   "pygments_lexer": "ipython3",
   "version": "3.10.6"
  }
 },
 "nbformat": 4,
 "nbformat_minor": 5
}
