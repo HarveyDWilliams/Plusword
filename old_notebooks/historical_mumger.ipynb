{
 "cells": [
  {
   "cell_type": "code",
   "execution_count": 8,
   "id": "79c84ad7-9fe9-4395-8f58-8da283b95747",
   "metadata": {},
   "outputs": [
    {
     "ename": "SyntaxError",
     "evalue": "invalid syntax (3488480166.py, line 6)",
     "output_type": "error",
     "traceback": [
      "\u001b[0;36m  File \u001b[0;32m\"/tmp/ipykernel_12066/3488480166.py\"\u001b[0;36m, line \u001b[0;32m6\u001b[0m\n\u001b[0;31m    from ../plotting_streamlit import data_import, scraper\u001b[0m\n\u001b[0m           ^\u001b[0m\n\u001b[0;31mSyntaxError\u001b[0m\u001b[0;31m:\u001b[0m invalid syntax\n"
     ]
    }
   ],
   "source": [
    "import pandas as pd\n",
    "from bs4 import BeautifulSoup\n",
    "import requests\n",
    "import re\n",
    "import datetime as dt\n",
    "from data/plotting_streamlit import data_import, scraper"
   ]
  },
  {
   "cell_type": "markdown",
   "id": "8db3ffa0-5926-4fc1-a28a-2d08514bf63a",
   "metadata": {},
   "source": [
    "### List of mumsnet urls"
   ]
  },
  {
   "cell_type": "code",
   "execution_count": null,
   "id": "7a6d43bd-616b-487f-9a52-434664ab1090",
   "metadata": {},
   "outputs": [],
   "source": [
    "url_list = ['https://www.mumsnet.com/talk/am_i_being_unreasonable/4676538-if-you-like-wordle-plusword-is-even-better-thread-4?page=',\n",
    "            'https://www.mumsnet.com/talk/_chat/4714295-plusword-new-thread-1?page=',\n",
    "            'https://www.mumsnet.com/talk/_chat/4765702-plusword-new-thread-2?page=']"
   ]
  },
  {
   "cell_type": "markdown",
   "id": "5e89af20-4cd1-445a-99d2-34e7e28467b8",
   "metadata": {},
   "source": [
    "## Scraper"
   ]
  },
  {
   "cell_type": "markdown",
   "id": "b8e2c62c-21ae-41dd-abfe-e31a4cc01b08",
   "metadata": {},
   "source": [
    "## Scraper initialization and df generation"
   ]
  },
  {
   "cell_type": "code",
   "execution_count": null,
   "id": "f5ccb6c5-607b-4685-ba22-4739129f9c38",
   "metadata": {},
   "outputs": [],
   "source": [
    "whole_post_list=[]\n",
    "\n",
    "# maxiumum number of pages in thread\n",
    "max_posts = 41\n",
    "\n",
    "for url in url_list:\n",
    "\n",
    "    whole_post_list = scraper(url, ma, whole_post_list)\n",
    "            \n",
    "df = pd.DataFrame(whole_post_list, columns=['user', 'date', 'time', 'text'])"
   ]
  },
  {
   "cell_type": "markdown",
   "id": "24c7104a-9f1b-4b66-987f-4bc4a19aff4c",
   "metadata": {
    "tags": []
   },
   "source": [
    "### Converts 'Today' and 'Yesterday to date values, creates and sorts by timestamp"
   ]
  },
  {
   "cell_type": "code",
   "execution_count": null,
   "id": "5584b88b-4419-47cb-9731-d25d46ef190d",
   "metadata": {
    "tags": []
   },
   "outputs": [],
   "source": [
    "df['date'] = df['date'].str.replace('Yesterday', dt.datetime.strftime((dt.datetime.today() - dt.timedelta(days=1)), '%d/%m/%Y'))\n",
    "df['date'] = df['date'].str.replace('Today', dt.datetime.strftime(dt.datetime.today(), '%d/%m/%Y'))\n",
    "df['load_ts'] = df['date'] + ' ' + (df['time']+':00')\n",
    "df['load_ts'] = df['load_ts'] + '.000'\n",
    "df"
   ]
  },
  {
   "cell_type": "code",
   "execution_count": null,
   "id": "142b6276-273f-4401-8796-d1dafcf009ad",
   "metadata": {},
   "outputs": [],
   "source": [
    "df['load_ts'] = pd.to_datetime(df['load_ts'], format='%d/%m/%Y %H:%M:%S.%f')\n",
    "df = df.sort_values(by=['load_ts'])\n",
    "df['load_ts'] = df['load_ts'].dt.strftime('%Y-%m-%d %H:%M:%S.%f')\n",
    "df['load_ts'] = df['load_ts'].str[:-3]"
   ]
  },
  {
   "cell_type": "code",
   "execution_count": null,
   "id": "9e419b5b-a5a1-4689-b2c6-af923b93ece0",
   "metadata": {
    "tags": []
   },
   "outputs": [],
   "source": [
    "df"
   ]
  },
  {
   "cell_type": "code",
   "execution_count": null,
   "id": "619449d9-4a32-4c4c-9c46-396a69a9ba1e",
   "metadata": {},
   "outputs": [],
   "source": [
    "df.dtypes"
   ]
  },
  {
   "cell_type": "markdown",
   "id": "d4216210-d8d4-4408-b017-32bdbf1fd74e",
   "metadata": {},
   "source": [
    "### Extracts times from text and adds 00: to allow it to handle hours"
   ]
  },
  {
   "cell_type": "code",
   "execution_count": null,
   "id": "86e2efb6-5742-41ba-8b3e-76e9bd47755b",
   "metadata": {},
   "outputs": [],
   "source": [
    "df['text'] =df['text'].str.extract(r'(\\d*\\d:\\d\\d)')\n",
    "df = df.dropna(subset='text')\n",
    "df = df.copy()\n",
    "df['text'] =df['text'].str.replace(r'(^\\d:\\d\\d)', r'0\\1', regex=True)\n",
    "df['text'] = '00:' + df['text']"
   ]
  },
  {
   "cell_type": "markdown",
   "id": "c1dcc181-ee50-459a-b718-16b82b91c9b8",
   "metadata": {},
   "source": [
    "### Drops duplicate entries for users on same date, drops columns and renames"
   ]
  },
  {
   "cell_type": "code",
   "execution_count": null,
   "id": "0b789493-e469-4e54-a415-30f581528120",
   "metadata": {},
   "outputs": [],
   "source": [
    "df = df.copy()\n",
    "df= df.drop_duplicates(subset=['user', 'date'])\n",
    "df = df.drop(columns=['date', 'time'])\n",
    "df = df.rename(columns={'text' : 'time'})\n",
    "df = df[['load_ts', 'time', 'user']]"
   ]
  },
  {
   "cell_type": "code",
   "execution_count": null,
   "id": "76208623-f5e9-49cc-8b43-26f2e789b00f",
   "metadata": {},
   "outputs": [],
   "source": [
    "df"
   ]
  },
  {
   "cell_type": "markdown",
   "id": "d57cf866-6c26-4f15-8912-01d96494d425",
   "metadata": {
    "tags": []
   },
   "source": [
    "### Prints timestamped csv"
   ]
  },
  {
   "cell_type": "code",
   "execution_count": null,
   "id": "5ca8456c-fa5c-446b-b372-65ed65bba990",
   "metadata": {
    "tags": []
   },
   "outputs": [],
   "source": [
    "df.to_csv('../data/historical_mumsnet_data_' + str(dt.datetime.now()) + '.csv', index=False)"
   ]
  },
  {
   "cell_type": "code",
   "execution_count": null,
   "id": "ca5efc70-f63a-46c4-85f2-b09ce4215b33",
   "metadata": {},
   "outputs": [],
   "source": []
  }
 ],
 "metadata": {
  "kernelspec": {
   "display_name": "Python 3 (ipykernel)",
   "language": "python",
   "name": "python3"
  },
  "language_info": {
   "codemirror_mode": {
    "name": "ipython",
    "version": 3
   },
   "file_extension": ".py",
   "mimetype": "text/x-python",
   "name": "python",
   "nbconvert_exporter": "python",
   "pygments_lexer": "ipython3",
   "version": "3.10.6"
  }
 },
 "nbformat": 4,
 "nbformat_minor": 5
}
